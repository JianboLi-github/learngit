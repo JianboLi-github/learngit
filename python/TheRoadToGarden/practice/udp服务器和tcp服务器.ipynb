{
 "cells": [
  {
   "cell_type": "markdown",
   "metadata": {},
   "source": [
    "python使用socket传概念udp服务器和客户端。\n",
    "\n",
    "服务器为一个时间戳服务器，在接收到客户端发来的数据后，自动回复。\n",
    "\n",
    "客户端，等待用户输入，回车后向服务器发送用户输入的内容\n",
    "\n",
    "udp协议是无连接的，不需要像tcp一样先建立连接，也就造成了DDOS攻击中，多以发送UDP包。"
   ]
  },
  {
   "cell_type": "markdown",
   "metadata": {},
   "source": [
    "UDP服务端代码"
   ]
  },
  {
   "cell_type": "code",
   "execution_count": null,
   "metadata": {},
   "outputs": [],
   "source": [
    "# coding:utf-8\n",
    "\n",
    "from socket import *\n",
    "from time import ctime\n",
    "\n",
    "print('================时间戳UDP服务器+++++++++++++++')\n",
    "\n",
    "HOST = ''# 主机号为空白表示可以使用任何可用的地址\n",
    "PORT = 18000\n",
    "BUFSIZ = 1024\n",
    "ADDR = (HOST, PORT)\n",
    "\n",
    "udpServerSocket = socket(AF_INET, SOCK_DGRAM) # 创建udp服务器套接字\n",
    "udpServerSocket.bind(ADDR)\n",
    "\n",
    "while True:\n",
    "    print('等待接受消息。。。')\n",
    "    data, addr = udpServerSocket.recvfrom(BUFSIZ) # 连续接受指定字节的数据，接收到的是字节数组\n",
    "    udpServerSocket.sendto(bytes('[{0} {1}]'.format(ctime(), data.decode('utf-8')), 'utf-8'), addr)\n",
    "    print('响应消息到', addr)\n",
    "\n",
    "udpServerSocket.close() # 关闭服务器socket"
   ]
  },
  {
   "cell_type": "markdown",
   "metadata": {},
   "source": [
    "udp客户端"
   ]
  },
  {
   "cell_type": "code",
   "execution_count": null,
   "metadata": {},
   "outputs": [],
   "source": [
    "# coding:utf-8\n",
    "\n",
    "from socket import *\n",
    "\n",
    "print('+++++++++++++udp客户端++++++++++++++')\n",
    "\n",
    "HOST = '127.0.0.1'\n",
    "PORT = 18000\n",
    "BUFSIZ = 1024\n",
    "ADDR = (HOST, PORT)\n",
    "\n",
    "udpClientSocket = socket(AF_INET, SOCK_DGRAM)#创建客户端套接字  \n",
    "\n",
    "while True:  \n",
    "    data = input('> ')  #接收用户输入  \n",
    "    if not data:   #如果用户输入为空，直接回车就会发送\"\"，\"\"就是代表false  \n",
    "        break  \n",
    "    udpClientSocket.sendto(bytes(data,'utf-8'), ADDR)  #客户端发送消息，必须发送字节数组  \n",
    "    data, ADDR = udpClientSocket.recvfrom(BUFSIZ)  #接收回应消息，接收到的是字节数组  \n",
    "    if not data:   #如果接收服务器信息失败，或没有消息回应  \n",
    "        break  \n",
    "    print(str(data,'utf-8'))  #打印回应消息  \n",
    "\n",
    "udpClientSocket.close()#关闭客户端socket  "
   ]
  },
  {
   "cell_type": "markdown",
   "metadata": {},
   "source": [
    "tcp服务器"
   ]
  },
  {
   "cell_type": "code",
   "execution_count": 1,
   "metadata": {},
   "outputs": [],
   "source": [
    "from  socket import * \n",
    "from time import ctime"
   ]
  },
  {
   "cell_type": "code",
   "execution_count": 2,
   "metadata": {},
   "outputs": [
    {
     "name": "stdout",
     "output_type": "stream",
     "text": [
      "+++++++++++++++++++++++++时间戳tcp服务器++++++++++++++\n"
     ]
    }
   ],
   "source": [
    "print('+++++++++++++++++++++++++时间戳tcp服务器++++++++++++++')"
   ]
  },
  {
   "cell_type": "code",
   "execution_count": 4,
   "metadata": {},
   "outputs": [],
   "source": [
    "HOST = '127.0.0.1' # 主机号为空白表示可以使用任何可用的地址\n",
    "PORT = 21567\n",
    "BUFSIZ = 1024\n",
    "ADDR = (HOST, PORT)"
   ]
  },
  {
   "cell_type": "code",
   "execution_count": 10,
   "metadata": {},
   "outputs": [
    {
     "ename": "IndentationError",
     "evalue": "unindent does not match any outer indentation level (<tokenize>, line 16)",
     "output_type": "error",
     "traceback": [
      "\u001b[1;36m  File \u001b[1;32m\"<tokenize>\"\u001b[1;36m, line \u001b[1;32m16\u001b[0m\n\u001b[1;33m    tcpCliSock.close() #关闭与客户端的连接\u001b[0m\n\u001b[1;37m    ^\u001b[0m\n\u001b[1;31mIndentationError\u001b[0m\u001b[1;31m:\u001b[0m unindent does not match any outer indentation level\n"
     ]
    }
   ],
   "source": [
    "tcpSerSock = socket(AF_INET, SOCK_STREAM)\n",
    "tcpSerSock.bind(ADDR)\n",
    "tcpSerSock.listen(5) # 监听连接，同时连接请求的最大数目\n",
    "\n",
    "while True:\n",
    "    print('等待客户端的连接')\n",
    "    tcpCliSock, addr = tcpSerSock.accept() # 接收客户端连接请求\n",
    "    print('取得连接：', addr)\n",
    "    \n",
    "    while True:\n",
    "        data = tcpCliSock.recv(BUFSIZ) # 连续接收指定字节的数据， 接收到的是字节数组\n",
    "        if not data: # 如果数据空白，则表示客户端退出，所以退出接收\n",
    "            break\n",
    "        # 向客户端发送时间戳数据，必须发送字节数组\n",
    "        tcpCliSock.send(bytes('[{0}]{1}'.formate(ctime(), data.decode('utf-8')), 'utf-8'))\n",
    "        \n",
    "     tcpCliSock.close() #关闭与客户端的连接\n",
    "    \n",
    "tcpSerSock.close() # 关闭服务器socket"
   ]
  },
  {
   "cell_type": "markdown",
   "metadata": {},
   "source": [
    "TCP客户端"
   ]
  },
  {
   "cell_type": "code",
   "execution_count": 12,
   "metadata": {},
   "outputs": [],
   "source": [
    "from socket import * "
   ]
  },
  {
   "cell_type": "code",
   "execution_count": 13,
   "metadata": {},
   "outputs": [
    {
     "name": "stdout",
     "output_type": "stream",
     "text": [
      "==============tcp客户端++++++++=========\n"
     ]
    }
   ],
   "source": [
    "print('==============tcp客户端++++++++=========')"
   ]
  },
  {
   "cell_type": "code",
   "execution_count": 16,
   "metadata": {},
   "outputs": [
    {
     "name": "stdout",
     "output_type": "stream",
     "text": [
      ">tcp服务器开启后\n",
      "[Sun Mar  8 11:21:09 2020] tcp服务器开启后\n",
      ">hello，这里是客户端\n",
      "[Sun Mar  8 11:21:22 2020] hello，这里是客户端\n",
      ">\n"
     ]
    }
   ],
   "source": [
    "HOST = '127.0.0.1'\n",
    "PORT = 21567\n",
    "BUFSIZ = 1024 #接收数据缓冲大小\n",
    "ADDR = (HOST, PORT)\n",
    "\n",
    "tcpCliSock = socket(AF_INET, SOCK_STREAM) # 创建客户端套接字\n",
    "tcpCliSock.connect(ADDR) #发起TCP连接\n",
    "\n",
    "while True:\n",
    "    data = input('>') #接收用户输入\n",
    "    if not data: # 如果用户输入为空，直接回车就会发送“”， “” 就是代表false\n",
    "        break\n",
    "    tcpCliSock.send(bytes(data, 'utf-8')) # 客户端发送消息，必须发送字节数组\n",
    "    data = tcpCliSock.recv(BUFSIZ) # 接收回应消息， 接收到的是字节数组\n",
    "    if not data: # 如果接收服务器信息失败，或者没有消息回应\n",
    "        break\n",
    "        \n",
    "    print(data.decode('utf-8')) # 打印回应消息，或者str(data, 'utf-8')\n",
    "tcpCliSock.close() #关闭客户端socket"
   ]
  },
  {
   "cell_type": "code",
   "execution_count": null,
   "metadata": {},
   "outputs": [],
   "source": []
  }
 ],
 "metadata": {
  "kernelspec": {
   "display_name": "Python 3",
   "language": "python",
   "name": "python3"
  },
  "language_info": {
   "codemirror_mode": {
    "name": "ipython",
    "version": 3
   },
   "file_extension": ".py",
   "mimetype": "text/x-python",
   "name": "python",
   "nbconvert_exporter": "python",
   "pygments_lexer": "ipython3",
   "version": "3.7.3"
  }
 },
 "nbformat": 4,
 "nbformat_minor": 2
}
