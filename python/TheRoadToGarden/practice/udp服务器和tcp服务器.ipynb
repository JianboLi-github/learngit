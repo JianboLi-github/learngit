{
 "cells": [
  {
   "cell_type": "markdown",
   "metadata": {},
   "source": [
    "python使用socket传概念udp服务器和客户端。\n",
    "\n",
    "服务器为一个时间戳服务器，在接收到客户端发来的数据后，自动回复。\n",
    "\n",
    "客户端，等待用户输入，回车后向服务器发送用户输入的内容\n",
    "\n",
    "udp协议是无连接的，不需要像tcp一样先建立连接，也就造成了DDOS攻击中，多以发送UDP包。"
   ]
  },
  {
   "cell_type": "markdown",
   "metadata": {},
   "source": [
    "UDP服务端代码"
   ]
  },
  {
   "cell_type": "code",
   "execution_count": null,
   "metadata": {},
   "outputs": [],
   "source": [
    "# coding:utf-8\n",
    "\n",
    "from socket import *\n",
    "from time import ctime\n",
    "\n",
    "print('================时间戳UDP服务器+++++++++++++++')\n",
    "\n",
    "HOST = ''# 主机号为空白表示可以使用任何可用的地址\n",
    "PORT = 18000\n",
    "BUFSIZ = 1024\n",
    "ADDR = (HOST, PORT)\n",
    "\n",
    "udpServerSocket = socket(AF_INET, SOCK_DGRAM) # 创建udp服务器套接字\n",
    "udpServerSocket.bind(ADDR)\n",
    "\n",
    "while True:\n",
    "    print('等待接受消息。。。')\n",
    "    data, addr = udpServerSocket.recvfrom(BUFSIZ) # 连续接受指定字节的数据，接收到的是字节数组\n",
    "    udpServerSocket.sendto(bytes('[{0} {1}]'.format(ctime(), data.decode('utf-8')), 'utf-8'), addr)\n",
    "    print('响应消息到', addr)\n",
    "\n",
    "udpServerSocket.close() # 关闭服务器socket"
   ]
  },
  {
   "cell_type": "markdown",
   "metadata": {},
   "source": [
    "udp客户端"
   ]
  },
  {
   "cell_type": "code",
   "execution_count": null,
   "metadata": {},
   "outputs": [],
   "source": [
    "# coding:utf-8\n",
    "\n",
    "from socket import *\n",
    "\n",
    "print('+++++++++++++udp客户端++++++++++++++')\n",
    "\n",
    "HOST = '127.0.0.1'\n",
    "PORT = 18000\n",
    "BUFSIZ = 1024\n",
    "ADDR = (HOST, PORT)\n",
    "\n",
    "udpClientSocket = socket(AF_INET, SOCK_DGRAM)#创建客户端套接字  \n",
    "\n",
    "while True:  \n",
    "    data = input('> ')  #接收用户输入  \n",
    "    if not data:   #如果用户输入为空，直接回车就会发送\"\"，\"\"就是代表false  \n",
    "        break  \n",
    "    udpClientSocket.sendto(bytes(data,'utf-8'), ADDR)  #客户端发送消息，必须发送字节数组  \n",
    "    data, ADDR = udpClientSocket.recvfrom(BUFSIZ)  #接收回应消息，接收到的是字节数组  \n",
    "    if not data:   #如果接收服务器信息失败，或没有消息回应  \n",
    "        break  \n",
    "    print(str(data,'utf-8'))  #打印回应消息  \n",
    "\n",
    "udpClientSocket.close()#关闭客户端socket  "
   ]
  },
  {
   "cell_type": "code",
   "execution_count": null,
   "metadata": {},
   "outputs": [],
   "source": []
  }
 ],
 "metadata": {
  "kernelspec": {
   "display_name": "Python 3",
   "language": "python",
   "name": "python3"
  },
  "language_info": {
   "codemirror_mode": {
    "name": "ipython",
    "version": 3
   },
   "file_extension": ".py",
   "mimetype": "text/x-python",
   "name": "python",
   "nbconvert_exporter": "python",
   "pygments_lexer": "ipython3",
   "version": "3.7.3"
  }
 },
 "nbformat": 4,
 "nbformat_minor": 2
}
